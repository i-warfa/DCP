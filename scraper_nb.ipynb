{
 "cells": [
  {
   "cell_type": "code",
   "execution_count": 2,
   "metadata": {},
   "outputs": [
    {
     "data": {
      "text/plain": [
       "'https://www.scan.co.uk/shop/computer-hardware/gpu-nvidia-gaming/nvidia-geforce-rtx-3060-graphics-cards'"
      ]
     },
     "execution_count": 2,
     "metadata": {},
     "output_type": "execute_result"
    }
   ],
   "source": [
    "from selenium import webdriver\n",
    "from selenium.webdriver.common.by import By\n",
    "from selenium.webdriver.common.action_chains import ActionChains\n",
    "from selenium.webdriver.common.keys import Keys\n",
    "from selenium.webdriver.support.wait import WebDriverWait\n",
    "from selenium.webdriver.support import expected_conditions as EC\n",
    "from selenium.common.exceptions import TimeoutException\n",
    "from time import sleep\n",
    "\n",
    "\n",
    "from scraper import ScanScraper\n",
    "\n",
    "scraper = ScanScraper()\n",
    "scraper._navigate_to_3060_cards()"
   ]
  },
  {
   "cell_type": "code",
   "execution_count": 3,
   "metadata": {},
   "outputs": [],
   "source": [
    "container = scraper.driver.find_element(By.XPATH, \"//ul[@class='productColumns']\")\n"
   ]
  },
  {
   "cell_type": "code",
   "execution_count": 4,
   "metadata": {},
   "outputs": [],
   "source": [
    "list_of_3060_cards = container.find_elements(By.XPATH, './li')\n"
   ]
  },
  {
   "cell_type": "code",
   "execution_count": null,
   "metadata": {},
   "outputs": [],
   "source": [
    "# len(list_of_3060_cards)"
   ]
  },
  {
   "cell_type": "code",
   "execution_count": 5,
   "metadata": {},
   "outputs": [],
   "source": [
    "hidden_products = scraper.driver.find_elements(By.XPATH, \"//li[contains(@data-price, '999999.00')]\")\n"
   ]
  },
  {
   "cell_type": "code",
   "execution_count": null,
   "metadata": {},
   "outputs": [],
   "source": [
    "# len(hidden_products)\n"
   ]
  },
  {
   "cell_type": "code",
   "execution_count": 7,
   "metadata": {},
   "outputs": [],
   "source": [
    "def non_match_elements(list_a, list_b):\n",
    "    non_match = []\n",
    "    for i in list_a:\n",
    "        if i not in list_b:\n",
    "            non_match.append(i)\n",
    "    return non_match\n",
    "\n",
    "\n",
    "in_stock_3060_cards = non_match_elements(list_of_3060_cards, hidden_products)\n"
   ]
  },
  {
   "cell_type": "code",
   "execution_count": 26,
   "metadata": {},
   "outputs": [
    {
     "data": {
      "text/plain": [
       "20"
      ]
     },
     "execution_count": 26,
     "metadata": {},
     "output_type": "execute_result"
    }
   ],
   "source": [
    "# len(in_stock_3060_cards)\n"
   ]
  },
  {
   "cell_type": "code",
   "execution_count": 8,
   "metadata": {},
   "outputs": [],
   "source": [
    "list_of_links_for_3060 = []\n",
    "for rtx_3060 in in_stock_3060_cards:\n",
    "    list_of_links_for_3060.append(rtx_3060.find_element(By.TAG_NAME, 'a').get_attribute('href'))"
   ]
  },
  {
   "cell_type": "code",
   "execution_count": 9,
   "metadata": {},
   "outputs": [],
   "source": [
    "from selenium.common.exceptions import NoSuchElementException\n",
    "import json\n",
    "import pandas as pd\n",
    "import requests\n",
    "import os\n",
    "import shutil\n",
    "import uuid\n",
    "import urllib\n",
    "\n",
    "root_dir = os.getcwd()\n",
    "raw_data = os.path.join(root_dir, 'raw_data')\n",
    "is_raw_data_there = os.path.exists(raw_data)\n",
    "\n",
    "if is_raw_data_there == True:\n",
    "    shutil.rmtree(raw_data)\n",
    "else:\n",
    "    os.makedirs(raw_data)\n",
    "\n",
    "product_list = []\n",
    "Product_Image_URL = []\n",
    "\n",
    "for link in list_of_links_for_3060[0:2]:\n",
    "\n",
    "    product_dictionary = {\n",
    "        'Product Name': [],\n",
    "        'SKU': [],\n",
    "        'Unique ID': [],\n",
    "        'Price': [],\n",
    "        'Link': [],\n",
    "        'Product Image URL': []\n",
    "    }\n",
    "\n",
    "    scraper.driver.get(link)\n",
    "    sleep(1)\n",
    "    product_dictionary['Link'].append(link)\n",
    "\n",
    "    # Get Product Name\n",
    "    try:\n",
    "        product_name = scraper.driver.find_element(By.XPATH, \"//h1[@itemprop='name']\")\n",
    "        product_dictionary['Product Name'].append(product_name.text)\n",
    "    except NoSuchElementException:\n",
    "        product_dictionary['Product Name'].append('N/A')\n",
    "\n",
    "    # Get Product SKU/Friendly ID\n",
    "    try:\n",
    "        sku = scraper.driver.find_element(By.XPATH, \"(//strong[@itemprop='sku'])[1]\")\n",
    "        product_dictionary['SKU'].append(sku.text)\n",
    "    except NoSuchElementException:\n",
    "        product_dictionary['SKU'].append('N/A')\n",
    "\n",
    "    # Generate UUID (Unique)\n",
    "    try:\n",
    "        unique_id = uuid.uuid4()\n",
    "        str(unique_id)\n",
    "        product_dictionary['Unique ID'].append(str(unique_id))\n",
    "    except:\n",
    "        product_dictionary['Unique ID'].append('N/A')\n",
    "\n",
    "    # Get Image URL\n",
    "    try:\n",
    "        element = scraper.driver.find_element(By.XPATH, \"//img[@class='zoomable-image'][1]\")\n",
    "        image_url = element.get_attribute('src')\n",
    "        Product_Image_URL.append(image_url)\n",
    "        product_dictionary['Product Image URL'].append(image_url)\n",
    "    except NoSuchElementException:\n",
    "        product_dictionary['Product Image URL'].append('N/A')\n",
    "\n",
    "    # Item Price\n",
    "    try:\n",
    "        price = scraper.driver.find_element(By.XPATH, \"(//span[@class='price'])[4]\")\n",
    "        product_dictionary['Price'].append(price.text)\n",
    "    except NoSuchElementException:\n",
    "        product_dictionary['Price'].append('N/A')\n",
    "\n",
    "    # append each product dictionary to a list.\n",
    "    product_list.append(product_dictionary)\n",
    "\n",
    "    # Create a folder for each product, named after its SKU.\n",
    "    product_entries = os.path.join(root_dir, raw_data, f\"{(sku.text)}\")\n",
    "    os.makedirs(product_entries)\n",
    "    with open(f'{product_entries}\\data.json', 'w') as fp:\n",
    "        json.dump(product_dictionary, fp)\n",
    "    \n",
    "    # Create an image Folder for each image\n",
    "    images_folder = os.path.join(product_entries, \"Images\")  \n",
    "    os.makedirs(images_folder)\n",
    "    \n",
    "    # Overcome 'HTTPError: HTTP Error 403: Forbidden' error code by modifying 'user-agent' variable that is send with the request.\n",
    "    opener=urllib.request.build_opener()\n",
    "    opener.addheaders=[('User-Agent','Mozilla/5.0 (Windows NT 10.0; Win64; x64) AppleWebKit/537.36 (KHTML, like Gecko) Chrome/102.0.5005.115 Safari/537.36')]\n",
    "    urllib.request.install_opener(opener)\n",
    "    urllib.request.urlretrieve(image_url, f'{images_folder}\\{sku.text}.jpg')\n"
   ]
  },
  {
   "cell_type": "code",
   "execution_count": null,
   "metadata": {},
   "outputs": [],
   "source": [
    "# product_list"
   ]
  },
  {
   "cell_type": "code",
   "execution_count": 10,
   "metadata": {},
   "outputs": [
    {
     "data": {
      "text/html": [
       "<div>\n",
       "<style scoped>\n",
       "    .dataframe tbody tr th:only-of-type {\n",
       "        vertical-align: middle;\n",
       "    }\n",
       "\n",
       "    .dataframe tbody tr th {\n",
       "        vertical-align: top;\n",
       "    }\n",
       "\n",
       "    .dataframe thead th {\n",
       "        text-align: right;\n",
       "    }\n",
       "</style>\n",
       "<table border=\"1\" class=\"dataframe\">\n",
       "  <thead>\n",
       "    <tr style=\"text-align: right;\">\n",
       "      <th></th>\n",
       "      <th>Product Name</th>\n",
       "      <th>SKU</th>\n",
       "      <th>Unique ID</th>\n",
       "      <th>Price</th>\n",
       "      <th>Link</th>\n",
       "      <th>Product Image URL</th>\n",
       "    </tr>\n",
       "  </thead>\n",
       "  <tbody>\n",
       "    <tr>\n",
       "      <th>0</th>\n",
       "      <td>[ZOTAC NVIDIA GeForce RTX 3060 12GB TWIN EDGE ...</td>\n",
       "      <td>[LN113664]</td>\n",
       "      <td>[922750b1-a75f-400c-97d9-413bc743af9f]</td>\n",
       "      <td>[£394.99]</td>\n",
       "      <td>[https://www.scan.co.uk/products/zotac-nvidia-...</td>\n",
       "      <td>[https://www.scan.co.uk/images/products/327389...</td>\n",
       "    </tr>\n",
       "    <tr>\n",
       "      <th>1</th>\n",
       "      <td>[EVGA NVIDIA GeForce RTX 3060 12GB XC GAMING A...</td>\n",
       "      <td>[LN114676]</td>\n",
       "      <td>[5cb911a9-e213-4871-9382-da1c5024eb62]</td>\n",
       "      <td>[£429.98]</td>\n",
       "      <td>[https://www.scan.co.uk/products/evga-nvidia-g...</td>\n",
       "      <td>[https://www.scan.co.uk/images/products/328906...</td>\n",
       "    </tr>\n",
       "  </tbody>\n",
       "</table>\n",
       "</div>"
      ],
      "text/plain": [
       "                                        Product Name         SKU  \\\n",
       "0  [ZOTAC NVIDIA GeForce RTX 3060 12GB TWIN EDGE ...  [LN113664]   \n",
       "1  [EVGA NVIDIA GeForce RTX 3060 12GB XC GAMING A...  [LN114676]   \n",
       "\n",
       "                                Unique ID      Price  \\\n",
       "0  [922750b1-a75f-400c-97d9-413bc743af9f]  [£394.99]   \n",
       "1  [5cb911a9-e213-4871-9382-da1c5024eb62]  [£429.98]   \n",
       "\n",
       "                                                Link  \\\n",
       "0  [https://www.scan.co.uk/products/zotac-nvidia-...   \n",
       "1  [https://www.scan.co.uk/products/evga-nvidia-g...   \n",
       "\n",
       "                                   Product Image URL  \n",
       "0  [https://www.scan.co.uk/images/products/327389...  \n",
       "1  [https://www.scan.co.uk/images/products/328906...  "
      ]
     },
     "execution_count": 10,
     "metadata": {},
     "output_type": "execute_result"
    }
   ],
   "source": [
    "pd.DataFrame(product_list)\n"
   ]
  },
  {
   "cell_type": "code",
   "execution_count": 13,
   "metadata": {},
   "outputs": [],
   "source": [
    "# import requests\n",
    "# with open('lol.jpg', 'wb') as f:\n",
    "#     f.write(requests.get(\"https://apod.nasa.gov/apod/image/1701/potw1636aN159_HST_2048.jpg\").content)\n",
    "#     f.close()\n"
   ]
  },
  {
   "cell_type": "code",
   "execution_count": 1,
   "metadata": {},
   "outputs": [],
   "source": [
    "product_dictionary = {\n",
    "        'Product Name': [],\n",
    "        'SKU': [],\n",
    "        'Unique ID': [],\n",
    "        'Price': [],\n",
    "        'Link': [],\n",
    "        'Product Image URL': []\n",
    "    }"
   ]
  },
  {
   "cell_type": "code",
   "execution_count": 2,
   "metadata": {},
   "outputs": [
    {
     "data": {
      "text/plain": [
       "6"
      ]
     },
     "execution_count": 2,
     "metadata": {},
     "output_type": "execute_result"
    }
   ],
   "source": [
    "len(product_dictionary)"
   ]
  },
  {
   "cell_type": "code",
   "execution_count": null,
   "metadata": {},
   "outputs": [],
   "source": []
  }
 ],
 "metadata": {
  "kernelspec": {
   "display_name": "Python 3.9.7 ('base')",
   "language": "python",
   "name": "python3"
  },
  "language_info": {
   "codemirror_mode": {
    "name": "ipython",
    "version": 3
   },
   "file_extension": ".py",
   "mimetype": "text/x-python",
   "name": "python",
   "nbconvert_exporter": "python",
   "pygments_lexer": "ipython3",
   "version": "3.9.7"
  },
  "orig_nbformat": 4,
  "vscode": {
   "interpreter": {
    "hash": "9429e3d8733c1ac76f5c3b0c6cdd2706acd1fd7b4f8c91f27a242412c8600fc4"
   }
  }
 },
 "nbformat": 4,
 "nbformat_minor": 2
}
